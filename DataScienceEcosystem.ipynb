{
 "cells": [
  {
   "cell_type": "markdown",
   "id": "9d753435",
   "metadata": {},
   "source": [
    "# Data Science Tools and Ecosystem"
   ]
  },
  {
   "cell_type": "markdown",
   "id": "12287f0b",
   "metadata": {},
   "source": [
    "In this notebook, Data Science Tools and Ecosystem are summarized."
   ]
  },
  {
   "cell_type": "markdown",
   "id": "b612c1ea",
   "metadata": {},
   "source": [
    "**Objectives**\n",
    "\n",
    "- Popular languages for Data Science\n",
    "- Commonly libraries for Data Science\n",
    "- Development Environment tools for Data Science\n",
    "- Basic arithmetic expression with Python"
   ]
  },
  {
   "cell_type": "markdown",
   "id": "a705d772",
   "metadata": {},
   "source": [
    "Some of the popular languages that Data Scientists use are:\n",
    "\n",
    "* Python\n",
    "* R\n",
    "* Julia\n",
    "* Scala\n",
    "* SQL"
   ]
  },
  {
   "cell_type": "markdown",
   "id": "ad97da72",
   "metadata": {},
   "source": [
    "Some of the commonly used libraries used by Data Scientists include:\n",
    "\n",
    "- Caret\n",
    "- SciKit Learn\n",
    "- Pandas\n",
    "- NumPy\n",
    "- SciPy\n",
    "- Keras"
   ]
  },
  {
   "cell_type": "markdown",
   "id": "2c8f80f6",
   "metadata": {},
   "source": [
    "| Data Science Tools |\n",
    "|:-------------------:|\n",
    "| Jupyter Notebooks |\n",
    "| RStudio |\n",
    "| Google Colab | \n"
   ]
  },
  {
   "cell_type": "markdown",
   "id": "074ff5d8",
   "metadata": {},
   "source": [
    "### Below are a few examples of evaluating arithmetic expressions in Python"
   ]
  },
  {
   "cell_type": "code",
   "execution_count": 1,
   "id": "8aa72ea1",
   "metadata": {},
   "outputs": [
    {
     "data": {
      "text/plain": [
       "17"
      ]
     },
     "execution_count": 1,
     "metadata": {},
     "output_type": "execute_result"
    }
   ],
   "source": [
    "#This is a simple arithmetic expression to multiply then add integers\n",
    "(3*4)+5"
   ]
  },
  {
   "cell_type": "code",
   "execution_count": 6,
   "id": "8900c2d0",
   "metadata": {},
   "outputs": [
    {
     "name": "stdout",
     "output_type": "stream",
     "text": [
      "3.3333333333333335\n"
     ]
    }
   ],
   "source": [
    "#This will convert 200 minutes to hours by diving by 60\n",
    "minutes = 200\n",
    "hour = 60\n",
    "minutes_to_hours = minutes/hour\n",
    "print(minutes_to_hours)"
   ]
  },
  {
   "cell_type": "markdown",
   "id": "a137801d",
   "metadata": {},
   "source": [
    "## Author\n",
    "\n",
    "Boitumelo"
   ]
  }
 ],
 "metadata": {
  "kernelspec": {
   "display_name": "Python 3 (ipykernel)",
   "language": "python",
   "name": "python3"
  },
  "language_info": {
   "codemirror_mode": {
    "name": "ipython",
    "version": 3
   },
   "file_extension": ".py",
   "mimetype": "text/x-python",
   "name": "python",
   "nbconvert_exporter": "python",
   "pygments_lexer": "ipython3",
   "version": "3.11.4"
  }
 },
 "nbformat": 4,
 "nbformat_minor": 5
}
